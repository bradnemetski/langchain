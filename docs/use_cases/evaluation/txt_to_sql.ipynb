{
 "cells": [
  {
   "cell_type": "markdown",
   "id": "a874d3fd",
   "metadata": {},
   "source": [
    "# Database Explorer\n",
    "\n",
    "This notebook can help you explore a database using langchain. It should be able to connect to any SQL Alchemy supported database, read the structure, allow you to see some of the underlying data and ask questions."
   ]
  },
  {
   "cell_type": "markdown",
   "id": "3cda9281-cc02-4cd9-9f79-c989ea8f5d28",
   "metadata": {},
   "source": [
    "## Enter a DB URL and your OpenAi api_key"
   ]
  },
  {
   "cell_type": "code",
   "execution_count": 3,
   "id": "494819b1-c385-4a1a-80a8-922bbf059f72",
   "metadata": {
    "tags": []
   },
   "outputs": [],
   "source": [
    "# db_url is a Sql Alchemy compliant connection string\n",
    "# see https://docs.sqlalchemy.org/en/20/core/engines.html for more details\n",
    "db_url = \"<enter a connection string>\"\n",
    "\n",
    "# or you can set an env variable with the api_key\n",
    "api_key = \"<enter an api key>\""
   ]
  },
  {
   "cell_type": "markdown",
   "id": "1045a51a-3376-41b6-8d30-bf6ef6f8625a",
   "metadata": {
    "tags": []
   },
   "source": [
    "## Select the table you wish to view"
   ]
  },
  {
   "cell_type": "code",
   "execution_count": 4,
   "id": "3e7ed629-2002-4f3b-b158-12c4f8002d75",
   "metadata": {
    "tags": []
   },
   "outputs": [
    {
     "data": {
      "application/vnd.jupyter.widget-view+json": {
       "model_id": "942cb44915f84cf5966e8b989462f749",
       "version_major": 2,
       "version_minor": 0
      },
      "text/plain": [
       "Dropdown(options=('city', 'country', 'countrylanguage'), value='city')"
      ]
     },
     "metadata": {},
     "output_type": "display_data"
    }
   ],
   "source": [
    "import pandas as pd\n",
    "from sqlalchemy import create_engine, MetaData, text\n",
    "from ipywidgets import widgets\n",
    "\n",
    "engine = create_engine(db_url)\n",
    "metadata = MetaData()\n",
    "metadata.reflect(bind=engine)\n",
    "\n",
    "tabs = []\n",
    "names = []\n",
    "for tbl in metadata.sorted_tables:\n",
    "    cols = []\n",
    "    for col in tbl.columns:\n",
    "        cols.append(col.name)\n",
    "\n",
    "    with engine.begin() as connection:\n",
    "        cursor = connection.execute(text(f\"\"\"select * from \"{tbl.name}\" limit 5\"\"\"))\n",
    "        anz = cursor.fetchall()\n",
    "        df = pd.DataFrame(anz, columns=cols)\n",
    "        # display(df)\n",
    "\n",
    "        names.append(tbl.name)\n",
    "        tabs.append(df)\n",
    "\n",
    "df_by_name = dict(zip(names, tabs))\n",
    "table_names = widgets.Dropdown(options=names)\n",
    "output_table = widgets.Output()\n",
    "\n",
    "\n",
    "def table_name_eventhandler(change):\n",
    "    output_table.clear_output()\n",
    "    with output_table:\n",
    "        display(df_by_name[change.new])\n",
    "\n",
    "\n",
    "table_names.observe(table_name_eventhandler, names=\"value\")\n",
    "\n",
    "display(table_names)"
   ]
  },
  {
   "cell_type": "code",
   "execution_count": 5,
   "id": "5cf63f08-2e07-4140-825b-b8e80822505e",
   "metadata": {
    "tags": []
   },
   "outputs": [
    {
     "data": {
      "application/vnd.jupyter.widget-view+json": {
       "model_id": "17aa766cf80f4889906a932c87daa836",
       "version_major": 2,
       "version_minor": 0
      },
      "text/plain": [
       "Output()"
      ]
     },
     "metadata": {},
     "output_type": "display_data"
    }
   ],
   "source": [
    "display(output_table)"
   ]
  },
  {
   "cell_type": "markdown",
   "id": "85241385-aee2-41fe-a687-463a1406547b",
   "metadata": {
    "tags": []
   },
   "source": [
    "## Ask your question"
   ]
  },
  {
   "cell_type": "code",
   "execution_count": 6,
   "id": "df3781fd-a8b4-4719-bebd-31f6d4175bb7",
   "metadata": {
    "tags": []
   },
   "outputs": [],
   "source": [
    "question = \"which country has the most cities?\""
   ]
  },
  {
   "cell_type": "code",
   "execution_count": 7,
   "id": "6f3f3e05-4970-4cd7-95e1-c4e667630723",
   "metadata": {
    "tags": []
   },
   "outputs": [],
   "source": [
    "from langchain import OpenAI, SQLDatabase\n",
    "from langchain.chains import SQLDatabaseSequentialChain\n",
    "\n",
    "db = SQLDatabase.from_uri(db_url)\n",
    "\n",
    "llm = OpenAI(temperature=0, openai_api_key=api_key)\n",
    "db_chain = SQLDatabaseSequentialChain.from_llm(\n",
    "    llm=llm, database=db, verbose=False, return_intermediate_steps=True\n",
    ")\n",
    "result = db_chain(question)"
   ]
  },
  {
   "cell_type": "code",
   "execution_count": 8,
   "id": "a27cc7b2-e718-4436-ad76-d71c7c529f64",
   "metadata": {
    "tags": []
   },
   "outputs": [
    {
     "name": "stdout",
     "output_type": "stream",
     "text": [
      "Natural Language Query:      which country has the most cities?\n",
      "Sql Query:                   SELECT countrycode, COUNT(*) AS num_cities FROM city GROUP BY countrycode ORDER BY num_cities DESC LIMIT 5;\n"
     ]
    },
    {
     "data": {
      "text/html": [
       "<div>\n",
       "<style scoped>\n",
       "    .dataframe tbody tr th:only-of-type {\n",
       "        vertical-align: middle;\n",
       "    }\n",
       "\n",
       "    .dataframe tbody tr th {\n",
       "        vertical-align: top;\n",
       "    }\n",
       "\n",
       "    .dataframe thead th {\n",
       "        text-align: right;\n",
       "    }\n",
       "</style>\n",
       "<table border=\"1\" class=\"dataframe\">\n",
       "  <thead>\n",
       "    <tr style=\"text-align: right;\">\n",
       "      <th></th>\n",
       "      <th>countrycode</th>\n",
       "      <th>num_cities</th>\n",
       "    </tr>\n",
       "  </thead>\n",
       "  <tbody>\n",
       "    <tr>\n",
       "      <th>0</th>\n",
       "      <td>CHN</td>\n",
       "      <td>363</td>\n",
       "    </tr>\n",
       "    <tr>\n",
       "      <th>1</th>\n",
       "      <td>IND</td>\n",
       "      <td>341</td>\n",
       "    </tr>\n",
       "    <tr>\n",
       "      <th>2</th>\n",
       "      <td>USA</td>\n",
       "      <td>274</td>\n",
       "    </tr>\n",
       "    <tr>\n",
       "      <th>3</th>\n",
       "      <td>BRA</td>\n",
       "      <td>250</td>\n",
       "    </tr>\n",
       "    <tr>\n",
       "      <th>4</th>\n",
       "      <td>JPN</td>\n",
       "      <td>248</td>\n",
       "    </tr>\n",
       "  </tbody>\n",
       "</table>\n",
       "</div>"
      ],
      "text/plain": [
       "  countrycode  num_cities\n",
       "0         CHN         363\n",
       "1         IND         341\n",
       "2         USA         274\n",
       "3         BRA         250\n",
       "4         JPN         248"
      ]
     },
     "metadata": {},
     "output_type": "display_data"
    },
    {
     "name": "stdout",
     "output_type": "stream",
     "text": [
      " China has the most cities with 363.\n"
     ]
    }
   ],
   "source": [
    "import json\n",
    "import ast\n",
    "import sqlparse\n",
    "\n",
    "sql_script = result[\"intermediate_steps\"][0]\n",
    "\n",
    "\n",
    "def get_query_columns(sql):\n",
    "    stmt = sqlparse.parse(sql)[0]\n",
    "    columns = []\n",
    "    column_identifiers = []\n",
    "\n",
    "    # get column_identifieres\n",
    "    in_select = False\n",
    "    for token in stmt.tokens:\n",
    "        if isinstance(token, sqlparse.sql.Comment):\n",
    "            continue\n",
    "        if str(token).lower() == \"select\":\n",
    "            in_select = True\n",
    "        elif in_select and token.ttype is None:\n",
    "            if isinstance(token, sqlparse.sql.Function):\n",
    "                column_identifiers.append(token)\n",
    "            else:\n",
    "                for identifier in token.get_identifiers():\n",
    "                    column_identifiers.append(identifier)\n",
    "            break\n",
    "\n",
    "    # get column names\n",
    "    for column_identifier in column_identifiers:\n",
    "        columns.append(column_identifier.get_name())\n",
    "\n",
    "    return columns\n",
    "\n",
    "\n",
    "cols = get_query_columns(sql_script)\n",
    "\n",
    "data = ast.literal_eval(result[\"intermediate_steps\"][1])\n",
    "\n",
    "print(f\"Natural Language Query:      {result['query']}\")\n",
    "print(f\"Sql Query:                  {sql_script}\")\n",
    "\n",
    "display(pd.DataFrame(data, columns=cols))\n",
    "print(result[\"result\"])"
   ]
  },
  {
   "cell_type": "markdown",
   "id": "3ff88957-e6cd-43a4-b3f7-8c15a12377a0",
   "metadata": {},
   "source": [
    "## Here's another prompt to construct the SQL, please iterate to get the exact answer you expect."
   ]
  },
  {
   "cell_type": "code",
   "execution_count": 9,
   "id": "7bbdd3f1-2467-465d-ab69-75b641bfadb6",
   "metadata": {
    "scrolled": true,
    "tags": []
   },
   "outputs": [
    {
     "name": "stdout",
     "output_type": "stream",
     "text": [
      "\n",
      "\n",
      "Which five countries have the most cities?\n"
     ]
    }
   ],
   "source": [
    "from langchain.prompts import PromptTemplate\n",
    "from langchain import OpenAI\n",
    "\n",
    "# llm = OpenAI(temperature=0.9)\n",
    "prompt = PromptTemplate(\n",
    "    input_variables=[\"sql_script\"],\n",
    "    template=\"\"\"given the sql \"{sql_script}\" write a specific prompt,\"\"\",\n",
    ")\n",
    "\n",
    "the_prompt = prompt.format(sql_script=sql_script)\n",
    "\n",
    "\n",
    "llm = OpenAI(temperature=0.0, openai_api_key=api_key)\n",
    "\n",
    "print(llm(the_prompt))"
   ]
  },
  {
   "cell_type": "code",
   "execution_count": null,
   "id": "bc32b23c-39c5-403e-98e5-89affcaf49f7",
   "metadata": {},
   "outputs": [],
   "source": []
  }
 ],
 "metadata": {
  "kernelspec": {
   "display_name": "Python 3 (ipykernel)",
   "language": "python",
   "name": "python3"
  },
  "language_info": {
   "codemirror_mode": {
    "name": "ipython",
    "version": 3
   },
   "file_extension": ".py",
   "mimetype": "text/x-python",
   "name": "python",
   "nbconvert_exporter": "python",
   "pygments_lexer": "ipython3",
   "version": "3.10.9"
  }
 },
 "nbformat": 4,
 "nbformat_minor": 5
}
